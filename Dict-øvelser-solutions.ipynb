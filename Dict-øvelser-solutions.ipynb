{
 "cells": [
  {
   "cell_type": "markdown",
   "metadata": {},
   "source": [
    "## Dictionaries\n",
    "### basic"
   ]
  },
  {
   "cell_type": "markdown",
   "metadata": {},
   "source": [
    "Ex 6.1 Gem oplysninger om en fodboldspiller fra Tottenham (Se pdf i github-repositoriet)"
   ]
  },
  {
   "cell_type": "code",
   "execution_count": 1,
   "metadata": {},
   "outputs": [],
   "source": [
    "player1Dict={'first_name':'Michel','last_name':'Vorm', 'age':31, 'city':'London'}"
   ]
  },
  {
   "cell_type": "markdown",
   "metadata": {},
   "source": [
    "Ex 6.2 Gem oplysninger om 5 fodboldspillere. Fulde navn er nøglen, trøjenummer værdien"
   ]
  },
  {
   "cell_type": "code",
   "execution_count": 3,
   "metadata": {},
   "outputs": [],
   "source": [
    "team={'michelvorm':13,'harrykane':10,'christianeriksen':23,'ericdier':15,'janvertonghen':5}"
   ]
  },
  {
   "cell_type": "markdown",
   "metadata": {},
   "source": [
    "Loop igennnem nøglerne og print flg: {navn} has number {nummer}"
   ]
  },
  {
   "cell_type": "code",
   "execution_count": 15,
   "metadata": {},
   "outputs": [
    {
     "name": "stdout",
     "output_type": "stream",
     "text": [
      "michelvorm has number 13\n",
      "harrykane has number 10\n",
      "christianeriksen has number 23\n",
      "ericdier has number 15\n",
      "janvertonghen has number 5\n",
      "michelvorm has number 13\n",
      "harrykane has number 10\n",
      "christianeriksen has number 23\n",
      "ericdier has number 15\n",
      "janvertonghen has number 5\n",
      "michelvorm has number 13\n",
      "harrykane has number 10\n",
      "christianeriksen has number 23\n",
      "ericdier has number 15\n",
      "janvertonghen has number 5\n"
     ]
    },
    {
     "data": {
      "text/plain": [
       "[None, None, None, None, None]"
      ]
     },
     "execution_count": 15,
     "metadata": {},
     "output_type": "execute_result"
    }
   ],
   "source": [
    "[print(k + ' has number ' + str(team[k])) for k in team.keys()]\n",
    "[print('{} has number {}'.format(k,team[k])) for k in team.keys()]\n",
    "[print(f'{k} has number {team[k]}') for k in team.keys()]"
   ]
  },
  {
   "cell_type": "markdown",
   "metadata": {},
   "source": [
    "Extra: Tilføj en spiller "
   ]
  },
  {
   "cell_type": "code",
   "execution_count": 16,
   "metadata": {},
   "outputs": [],
   "source": [
    "team['bendavies']=33"
   ]
  },
  {
   "cell_type": "code",
   "execution_count": 17,
   "metadata": {},
   "outputs": [
    {
     "name": "stdout",
     "output_type": "stream",
     "text": [
      "michelvorm has number 13\n",
      "harrykane has number 10\n",
      "christianeriksen has number 23\n",
      "ericdier has number 15\n",
      "janvertonghen has number 5\n",
      "bendavies has number 33\n"
     ]
    },
    {
     "data": {
      "text/plain": [
       "[None, None, None, None, None, None]"
      ]
     },
     "execution_count": 17,
     "metadata": {},
     "output_type": "execute_result"
    }
   ],
   "source": [
    "[print(f'{k} has number {team[k]}') for k in team.keys()]"
   ]
  },
  {
   "cell_type": "markdown",
   "metadata": {},
   "source": [
    "Print nu listen ordnet efter navn"
   ]
  },
  {
   "cell_type": "code",
   "execution_count": 18,
   "metadata": {},
   "outputs": [
    {
     "name": "stdout",
     "output_type": "stream",
     "text": [
      "bendavies has number 33\n",
      "christianeriksen has number 23\n",
      "ericdier has number 15\n",
      "harrykane has number 10\n",
      "janvertonghen has number 5\n",
      "michelvorm has number 13\n"
     ]
    },
    {
     "data": {
      "text/plain": [
       "[None, None, None, None, None, None]"
      ]
     },
     "execution_count": 18,
     "metadata": {},
     "output_type": "execute_result"
    }
   ],
   "source": [
    "[print(f'{k} has number {team[k]}') for k in sorted(team.keys())]"
   ]
  },
  {
   "cell_type": "markdown",
   "metadata": {},
   "source": [
    "Loop nu igennem listen men print kun spilleren hvis trøjenummeret er større end 15"
   ]
  },
  {
   "cell_type": "code",
   "execution_count": 21,
   "metadata": {},
   "outputs": [
    {
     "name": "stdout",
     "output_type": "stream",
     "text": [
      "christianeriksen has 23\n",
      "bendavies has 33\n"
     ]
    }
   ],
   "source": [
    "for k,v in team.items():\n",
    "    if v>15:\n",
    "        print(f'{k} has {v}')"
   ]
  },
  {
   "cell_type": "markdown",
   "metadata": {},
   "source": [
    "Loop og print kun hvis navnet indeholder et \"i\""
   ]
  },
  {
   "cell_type": "code",
   "execution_count": 25,
   "metadata": {},
   "outputs": [
    {
     "name": "stdout",
     "output_type": "stream",
     "text": [
      "michelvorm has 13\n",
      "christianeriksen has 23\n",
      "ericdier has 15\n",
      "bendavies has 33\n"
     ]
    }
   ],
   "source": [
    "for k,v in team.items():\n",
    "    if \"i\" in k:\n",
    "        print(f'{k} has {v}')"
   ]
  },
  {
   "cell_type": "markdown",
   "metadata": {},
   "source": [
    "### Nesting"
   ]
  },
  {
   "cell_type": "markdown",
   "metadata": {},
   "source": [
    "Vi skal lave en liste af random spillere. Der skal være to hold, teamA og teamB. "
   ]
  },
  {
   "cell_type": "markdown",
   "metadata": {},
   "source": [
    "opg1:Vi skal kunne lave tilfældige navne ud fra alfabetet. Det kan gøres manuelt på flg måde:"
   ]
  },
  {
   "cell_type": "code",
   "execution_count": 70,
   "metadata": {},
   "outputs": [],
   "source": [
    "from random import randint\n",
    "name=\"\"\n",
    "kons=\"abecedefaghijokulamunopeqirosatuv\"\n",
    "for i in range(9):\n",
    "    name +=kons[randint(0,len(kons)-1)]\n",
    "name=name.capitalize()"
   ]
  },
  {
   "cell_type": "markdown",
   "metadata": {},
   "source": [
    "Lav nu en liste med 11 tilfældige navne"
   ]
  },
  {
   "cell_type": "code",
   "execution_count": 83,
   "metadata": {},
   "outputs": [
    {
     "name": "stdout",
     "output_type": "stream",
     "text": [
      "['Eaadpitme', 'Ejaijiuai', 'Ebuelhaid', 'Eearuskua', 'Aquoqedis', 'Erjujpqaj', 'Bqqeiaaoo', 'Aanucaiuj', 'Uafhemoso', 'Aaolvefee', 'Indvmejvo', 'Ujitasota', 'Ipjieedhp', 'Ojpjjkedc', 'Adquueeha', 'Larpesueo', 'Efdinharh', 'Kehsurpaa', 'Mcqeoeaac', 'Umqeetaro', 'Kamdifepm', 'Seltekuup']\n"
     ]
    }
   ],
   "source": [
    "names=[]\n",
    "for number in range(22):\n",
    "    name=\"\"\n",
    "    for i in range(9):\n",
    "        name +=kons[randint(0,len(kons)-1)]\n",
    "    name=name.capitalize()\n",
    "    names.append(name)\n",
    "print(names)"
   ]
  },
  {
   "cell_type": "code",
   "execution_count": 59,
   "metadata": {},
   "outputs": [
    {
     "data": {
      "text/plain": [
       "140436654513904"
      ]
     },
     "execution_count": 59,
     "metadata": {},
     "output_type": "execute_result"
    }
   ],
   "source": [
    "id(name)"
   ]
  },
  {
   "cell_type": "code",
   "execution_count": 53,
   "metadata": {},
   "outputs": [
    {
     "name": "stdout",
     "output_type": "stream",
     "text": [
      "140436665196912\n"
     ]
    }
   ],
   "source": [
    "print(id(name))"
   ]
  },
  {
   "cell_type": "markdown",
   "metadata": {},
   "source": [
    "Loop nu listen igennem og lav to nye lister med hver 12 dictonaries: {\"name\":\"navn-fra-listen\", \"shirtnumber\": et-tal-mellem-1-og-35}. Tænk over at man skal undgå doubletter. "
   ]
  },
  {
   "cell_type": "code",
   "execution_count": 87,
   "metadata": {},
   "outputs": [],
   "source": [
    "playersA = []\n",
    "playersB = []\n",
    "players = []\n",
    "numbers = (([randint(1,35) for i in range(50)]))\n",
    "\n",
    "for player in names:\n",
    "    tmpPlayer= {\"name\":player,\"shirtnumber\":numbers.pop()}\n",
    "    players.append(tmpPlayer)\n",
    "playersA=players[:11]\n",
    "playersB=players[11:]"
   ]
  },
  {
   "cell_type": "markdown",
   "metadata": {},
   "source": [
    "Lav nu en liste der består af 22 lister af 5 tilfældige tal mellem 0 og 90 (indikerer hvor mange minutter de har spillet)"
   ]
  },
  {
   "cell_type": "code",
   "execution_count": 93,
   "metadata": {},
   "outputs": [
    {
     "name": "stdout",
     "output_type": "stream",
     "text": [
      "[[1, 18, 82, 89, 10], [86, 26, 75, 8, 3], [74, 70, 38, 30, 44], [21, 58, 85, 30, 16], [0, 88, 50, 83, 7], [33, 24, 59, 86, 26], [19, 38, 26, 27, 51], [49, 76, 32, 26, 49], [24, 53, 49, 66, 49], [28, 54, 53, 28, 55], [82, 40, 48, 26, 23], [63, 43, 8, 0, 34], [58, 11, 83, 58, 3], [81, 68, 83, 86, 54], [67, 87, 40, 20, 66], [39, 79, 37, 62, 33], [72, 37, 23, 66, 7], [56, 65, 31, 80, 6], [23, 4, 61, 16, 30], [36, 53, 16, 67, 53], [48, 42, 44, 75, 36], [0, 25, 88, 0, 60]]\n"
     ]
    }
   ],
   "source": [
    "minsplayedTotal=[]\n",
    "for i in range(22):\n",
    "    tmpminsplayed=[]\n",
    "    for j in range(5):\n",
    "        tmpminsplayed.append(randint(0,90))\n",
    "    minsplayedTotal.append(tmpminsplayed)\n",
    "print(minsplayedTotal)"
   ]
  },
  {
   "cell_type": "markdown",
   "metadata": {},
   "source": [
    "### En liste i en dictionary\n",
    "Tilføj nu en nøgle til hver spiller i listen over spillere så f.eks spilleren 'Eaadpitme' kommer til at se sådan ud:<br>\n",
    "{'name': 'Eaadpitme', 'shirtnumber': 35, 'gamesplayed': [0, 25, 88, 0, 60]}<br>\n",
    "Hvor han før så sådan ud:<br>\n",
    "{'name': 'Eaadpitme', 'shirtnumber': 35}"
   ]
  },
  {
   "cell_type": "code",
   "execution_count": 94,
   "metadata": {},
   "outputs": [
    {
     "name": "stdout",
     "output_type": "stream",
     "text": [
      "[{'name': 'Eaadpitme', 'shirtnumber': 35, 'gamesplayed': [0, 25, 88, 0, 60]}, {'name': 'Ejaijiuai', 'shirtnumber': 4, 'gamesplayed': [48, 42, 44, 75, 36]}, {'name': 'Ebuelhaid', 'shirtnumber': 16, 'gamesplayed': [36, 53, 16, 67, 53]}, {'name': 'Eearuskua', 'shirtnumber': 2, 'gamesplayed': [23, 4, 61, 16, 30]}, {'name': 'Aquoqedis', 'shirtnumber': 19, 'gamesplayed': [56, 65, 31, 80, 6]}, {'name': 'Erjujpqaj', 'shirtnumber': 10, 'gamesplayed': [72, 37, 23, 66, 7]}, {'name': 'Bqqeiaaoo', 'shirtnumber': 4, 'gamesplayed': [39, 79, 37, 62, 33]}, {'name': 'Aanucaiuj', 'shirtnumber': 35, 'gamesplayed': [67, 87, 40, 20, 66]}, {'name': 'Uafhemoso', 'shirtnumber': 23, 'gamesplayed': [81, 68, 83, 86, 54]}, {'name': 'Aaolvefee', 'shirtnumber': 33, 'gamesplayed': [58, 11, 83, 58, 3]}, {'name': 'Indvmejvo', 'shirtnumber': 6, 'gamesplayed': [63, 43, 8, 0, 34]}, {'name': 'Ujitasota', 'shirtnumber': 33, 'gamesplayed': [82, 40, 48, 26, 23]}, {'name': 'Ipjieedhp', 'shirtnumber': 12, 'gamesplayed': [28, 54, 53, 28, 55]}, {'name': 'Ojpjjkedc', 'shirtnumber': 5, 'gamesplayed': [24, 53, 49, 66, 49]}, {'name': 'Adquueeha', 'shirtnumber': 5, 'gamesplayed': [49, 76, 32, 26, 49]}, {'name': 'Larpesueo', 'shirtnumber': 21, 'gamesplayed': [19, 38, 26, 27, 51]}, {'name': 'Efdinharh', 'shirtnumber': 24, 'gamesplayed': [33, 24, 59, 86, 26]}, {'name': 'Kehsurpaa', 'shirtnumber': 7, 'gamesplayed': [0, 88, 50, 83, 7]}, {'name': 'Mcqeoeaac', 'shirtnumber': 2, 'gamesplayed': [21, 58, 85, 30, 16]}, {'name': 'Umqeetaro', 'shirtnumber': 4, 'gamesplayed': [74, 70, 38, 30, 44]}, {'name': 'Kamdifepm', 'shirtnumber': 13, 'gamesplayed': [86, 26, 75, 8, 3]}, {'name': 'Seltekuup', 'shirtnumber': 29, 'gamesplayed': [1, 18, 82, 89, 10]}]\n"
     ]
    }
   ],
   "source": [
    "for player in players:\n",
    "    player['gamesplayed']=minsplayedTotal.pop()\n",
    "print(players)"
   ]
  },
  {
   "cell_type": "markdown",
   "metadata": {},
   "source": [
    "### En dictionary i en dictionary\n",
    "Lav en dictionary {\"Club\":\"Tottenham\", \"Season\":\"2018/19\"} og tilføj til de første 11 spillere<br>\n",
    "og {\"Club\":\"Liverpool\", \"Season\":\"2018/19\"} for de sidste 11"
   ]
  },
  {
   "cell_type": "code",
   "execution_count": 97,
   "metadata": {},
   "outputs": [
    {
     "name": "stdout",
     "output_type": "stream",
     "text": [
      "[{'name': 'Eaadpitme', 'shirtnumber': 35, 'gamesplayed': [0, 25, 88, 0, 60], 'clubinfo': {'Club': 'Tottenham', 'Season': '2018/19'}}, {'name': 'Ejaijiuai', 'shirtnumber': 4, 'gamesplayed': [48, 42, 44, 75, 36], 'clubinfo': {'Club': 'Tottenham', 'Season': '2018/19'}}, {'name': 'Ebuelhaid', 'shirtnumber': 16, 'gamesplayed': [36, 53, 16, 67, 53], 'clubinfo': {'Club': 'Tottenham', 'Season': '2018/19'}}, {'name': 'Eearuskua', 'shirtnumber': 2, 'gamesplayed': [23, 4, 61, 16, 30], 'clubinfo': {'Club': 'Tottenham', 'Season': '2018/19'}}, {'name': 'Aquoqedis', 'shirtnumber': 19, 'gamesplayed': [56, 65, 31, 80, 6], 'clubinfo': {'Club': 'Tottenham', 'Season': '2018/19'}}, {'name': 'Erjujpqaj', 'shirtnumber': 10, 'gamesplayed': [72, 37, 23, 66, 7], 'clubinfo': {'Club': 'Tottenham', 'Season': '2018/19'}}, {'name': 'Bqqeiaaoo', 'shirtnumber': 4, 'gamesplayed': [39, 79, 37, 62, 33], 'clubinfo': {'Club': 'Tottenham', 'Season': '2018/19'}}, {'name': 'Aanucaiuj', 'shirtnumber': 35, 'gamesplayed': [67, 87, 40, 20, 66], 'clubinfo': {'Club': 'Tottenham', 'Season': '2018/19'}}, {'name': 'Uafhemoso', 'shirtnumber': 23, 'gamesplayed': [81, 68, 83, 86, 54], 'clubinfo': {'Club': 'Tottenham', 'Season': '2018/19'}}, {'name': 'Aaolvefee', 'shirtnumber': 33, 'gamesplayed': [58, 11, 83, 58, 3], 'clubinfo': {'Club': 'Tottenham', 'Season': '2018/19'}}, {'name': 'Indvmejvo', 'shirtnumber': 6, 'gamesplayed': [63, 43, 8, 0, 34], 'clubinfo': {'Club': 'Tottenham', 'Season': '2018/19'}}]\n"
     ]
    }
   ],
   "source": [
    "for player in playersA:\n",
    "    player['clubinfo']={\"Club\":\"Tottenham\", \"Season\":\"2018/19\"} \n",
    "print(playersA)"
   ]
  },
  {
   "cell_type": "code",
   "execution_count": 96,
   "metadata": {},
   "outputs": [
    {
     "name": "stdout",
     "output_type": "stream",
     "text": [
      "[{'name': 'Ujitasota', 'shirtnumber': 33, 'gamesplayed': [82, 40, 48, 26, 23], 'clubinfo': {'Club': 'Liverpool', 'Season': '2018/19'}}, {'name': 'Ipjieedhp', 'shirtnumber': 12, 'gamesplayed': [28, 54, 53, 28, 55], 'clubinfo': {'Club': 'Liverpool', 'Season': '2018/19'}}, {'name': 'Ojpjjkedc', 'shirtnumber': 5, 'gamesplayed': [24, 53, 49, 66, 49], 'clubinfo': {'Club': 'Liverpool', 'Season': '2018/19'}}, {'name': 'Adquueeha', 'shirtnumber': 5, 'gamesplayed': [49, 76, 32, 26, 49], 'clubinfo': {'Club': 'Liverpool', 'Season': '2018/19'}}, {'name': 'Larpesueo', 'shirtnumber': 21, 'gamesplayed': [19, 38, 26, 27, 51], 'clubinfo': {'Club': 'Liverpool', 'Season': '2018/19'}}, {'name': 'Efdinharh', 'shirtnumber': 24, 'gamesplayed': [33, 24, 59, 86, 26], 'clubinfo': {'Club': 'Liverpool', 'Season': '2018/19'}}, {'name': 'Kehsurpaa', 'shirtnumber': 7, 'gamesplayed': [0, 88, 50, 83, 7], 'clubinfo': {'Club': 'Liverpool', 'Season': '2018/19'}}, {'name': 'Mcqeoeaac', 'shirtnumber': 2, 'gamesplayed': [21, 58, 85, 30, 16], 'clubinfo': {'Club': 'Liverpool', 'Season': '2018/19'}}, {'name': 'Umqeetaro', 'shirtnumber': 4, 'gamesplayed': [74, 70, 38, 30, 44], 'clubinfo': {'Club': 'Liverpool', 'Season': '2018/19'}}, {'name': 'Kamdifepm', 'shirtnumber': 13, 'gamesplayed': [86, 26, 75, 8, 3], 'clubinfo': {'Club': 'Liverpool', 'Season': '2018/19'}}, {'name': 'Seltekuup', 'shirtnumber': 29, 'gamesplayed': [1, 18, 82, 89, 10], 'clubinfo': {'Club': 'Liverpool', 'Season': '2018/19'}}]\n"
     ]
    }
   ],
   "source": [
    "for player in playersB:\n",
    "    player['clubinfo']={\"Club\":\"Liverpool\", \"Season\":\"2018/19\"} \n",
    "print(playersB)"
   ]
  },
  {
   "cell_type": "markdown",
   "metadata": {},
   "source": [
    "Ex 6-11 Tre byer med navne som nøgler og hvor hver nøgle refererer til en dict af info: land,indbyggere,funfact"
   ]
  },
  {
   "cell_type": "code",
   "execution_count": null,
   "metadata": {},
   "outputs": [],
   "source": []
  },
  {
   "cell_type": "code",
   "execution_count": null,
   "metadata": {},
   "outputs": [],
   "source": []
  }
 ],
 "metadata": {
  "kernelspec": {
   "display_name": "Python 3",
   "language": "python",
   "name": "python3"
  },
  "language_info": {
   "codemirror_mode": {
    "name": "ipython",
    "version": 3
   },
   "file_extension": ".py",
   "mimetype": "text/x-python",
   "name": "python",
   "nbconvert_exporter": "python",
   "pygments_lexer": "ipython3",
   "version": "3.7.6"
  }
 },
 "nbformat": 4,
 "nbformat_minor": 4
}
