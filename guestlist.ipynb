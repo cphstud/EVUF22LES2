{
 "cells": [
  {
   "cell_type": "code",
   "execution_count": 12,
   "metadata": {},
   "outputs": [],
   "source": [
    "guestlist=['Pia','pia','Lone', 'kurt']# Deskstaff "
   ]
  },
  {
   "cell_type": "code",
   "execution_count": 7,
   "metadata": {},
   "outputs": [],
   "source": [
    "checklist=['Pia','Lone','Viggo'] #admin aprooved list"
   ]
  },
  {
   "cell_type": "code",
   "execution_count": null,
   "metadata": {},
   "outputs": [],
   "source": [
    "for guest in guestlist:\n",
    "    print(\"check typed \"+ guest)\n",
    "    #check if typed guest is in approved list\n",
    "    for approvedguest in checklist:\n",
    "        print(\"approved guest \"+approvedguest)\n",
    "        if guest.title()==approvedguest.title():\n",
    "            print(guest+\" er i listen\")\n",
    "            break\n",
    "        else:\n",
    "            print(\"Du \" + guest + \" må ikke være med\")"
   ]
  },
  {
   "cell_type": "code",
   "execution_count": null,
   "metadata": {},
   "outputs": [],
   "source": [
    "for guest in guestlist:\n",
    "    print(\"check typed \"+ guest)\n",
    "    #check if typed guest is in approved list\n",
    "    for approvedguest in checklist:\n",
    "        print(\"approved guest \"+approvedguest)\n",
    "        if guest.title()==approvedguest.title():\n",
    "            print(guest+\" er i listen\")\n",
    "        else:\n",
    "            print(\"Du \" + guest + \" må ikke være med\")\n",
    "\n",
    "print(\"\\n\\n\")    \n",
    "for guest in checklist:\n",
    "    if guest.title() in guestlist:\n",
    "        print(guest+\" er i listen\")\n",
    "    else:\n",
    "        print(\"Du \" + guest + \" må ikke være med\")"
   ]
  },
  {
   "cell_type": "code",
   "execution_count": null,
   "metadata": {},
   "outputs": [],
   "source": []
  }
 ],
 "metadata": {
  "kernelspec": {
   "display_name": "Python 3",
   "language": "python",
   "name": "python3"
  },
  "language_info": {
   "codemirror_mode": {
    "name": "ipython",
    "version": 3
   },
   "file_extension": ".py",
   "mimetype": "text/x-python",
   "name": "python",
   "nbconvert_exporter": "python",
   "pygments_lexer": "ipython3",
   "version": "3.7.6"
  }
 },
 "nbformat": 4,
 "nbformat_minor": 4
}
