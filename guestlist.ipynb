{
 "cells": [
  {
   "cell_type": "code",
   "execution_count": 12,
   "metadata": {},
   "outputs": [],
   "source": [
    "guestlist=['Pia','pia','Lone', 'kurt']# Deskstaff "
   ]
  },
  {
   "cell_type": "code",
   "execution_count": 22,
   "metadata": {},
   "outputs": [],
   "source": [
    "checklist=['Pia','Lone','Viggo','Viggo','Viggo'] #admin aprooved list"
   ]
  },
  {
   "cell_type": "code",
   "execution_count": 23,
   "metadata": {},
   "outputs": [
    {
     "name": "stdout",
     "output_type": "stream",
     "text": [
      "{'Viggo', 'Pia', 'Lone'}\n"
     ]
    }
   ],
   "source": [
    "print(set(checklist))"
   ]
  },
  {
   "cell_type": "code",
   "execution_count": 27,
   "metadata": {},
   "outputs": [
    {
     "name": "stdout",
     "output_type": "stream",
     "text": [
      "Hej hvad hedder du?(hvis quit så stopper det)Kurt\n",
      "Hej hvad hedder du?(hvis quit så stopper det)Allen\n",
      "Hej hvad hedder du?(hvis quit så stopper det)Leonn\n",
      "Hej hvad hedder du?(hvis quit så stopper det)Lonne\n",
      "Hej hvad hedder du?(hvis quit så stopper det)Quit\n",
      "['Kurt', 'Allen', 'Leonn', 'Lonne']\n"
     ]
    }
   ],
   "source": [
    "#Data struktur til gæster\n",
    "visitors=[]\n",
    "#variabel til at styre køretid for programmet\n",
    "running=True\n",
    "\n",
    "#Programm loop\n",
    "while running:\n",
    "    queryString=\"Hej hvad hedder du?(hvis quit så stopper det)\"\n",
    "    firstName=input(queryString)\n",
    "    \n",
    "    if firstName==\"Quit\":\n",
    "        running=False\n",
    "    else:\n",
    "        #clean input (lowercase)\n",
    "        visitors.append(firstName)\n",
    "\n",
    "#befor print remove duplicates\n",
    "print(visitors)\n",
    "    \n",
    "    \n",
    "    "
   ]
  },
  {
   "cell_type": "code",
   "execution_count": 21,
   "metadata": {},
   "outputs": [
    {
     "name": "stdout",
     "output_type": "stream",
     "text": [
      "Her er godtkendte gæster: \n",
      "['Pia', 'pia', 'Lone']\n"
     ]
    }
   ],
   "source": [
    "#lav liste til godkendte registrerede gæster\n",
    "#lav en til afviste\n",
    "appGuests=[]\n",
    "deniedGuests=[]\n",
    "\n",
    "#put den godkendte i godkendte gæster\n",
    "#put den afviste i afvist-listen\n",
    "for guest in guestlist:\n",
    "    #print(\"check typed \"+ guest)\n",
    "    #check if typed guest is in approved list\n",
    "    for approvedguest in checklist:\n",
    "        #print(\"approved guest \"+approvedguest)\n",
    "        if guest.title()==approvedguest.title():\n",
    "            appGuests.append(guest)\n",
    "            break\n",
    "            #print(guest+\" er i listen\")\n",
    "\n",
    "print(\"Her er godtkendte gæster: \")\n",
    "print(appGuests)\n",
    "# lave afvist liste ved at konvertere til mængder (set)\n",
    "# lav snit-mængden og træk den fra gæstelisten"
   ]
  },
  {
   "cell_type": "code",
   "execution_count": null,
   "metadata": {},
   "outputs": [],
   "source": []
  }
 ],
 "metadata": {
  "kernelspec": {
   "display_name": "Python 3",
   "language": "python",
   "name": "python3"
  },
  "language_info": {
   "codemirror_mode": {
    "name": "ipython",
    "version": 3
   },
   "file_extension": ".py",
   "mimetype": "text/x-python",
   "name": "python",
   "nbconvert_exporter": "python",
   "pygments_lexer": "ipython3",
   "version": "3.7.6"
  }
 },
 "nbformat": 4,
 "nbformat_minor": 4
}
