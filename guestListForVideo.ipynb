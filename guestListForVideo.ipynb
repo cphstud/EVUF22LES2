{
 "cells": [
  {
   "cell_type": "code",
   "execution_count": 1,
   "metadata": {},
   "outputs": [],
   "source": [
    "typedCL=['Lone','leila','Pia','pia','Kurt','Verner'] #typist with two Pias .. what to do?\n",
    "adminAL=['lone','pia']"
   ]
  },
  {
   "cell_type": "code",
   "execution_count": 6,
   "metadata": {},
   "outputs": [
    {
     "name": "stdout",
     "output_type": "stream",
     "text": [
      "The following are approved: {'pia', 'lone'}\n"
     ]
    }
   ],
   "source": [
    "appL=[]\n",
    "#check tL against aL\n",
    "for aG in adminAL:\n",
    "    for tG in typedCL:\n",
    "        if aG.lower() == tG.lower():\n",
    "            appL.append(aG)\n",
    "\n",
    "appSet=set(appL)            \n",
    "print(\"The following are approved:\",appSet)\n",
    "            "
   ]
  },
  {
   "cell_type": "code",
   "execution_count": 9,
   "metadata": {},
   "outputs": [],
   "source": [
    "\n",
    "adminAL=[]\n",
    "pD={'firstname':'Pia','lastname':'Wulf'}\n",
    "lD={'firstname':'Lone','lastname':'Pedersen'}\n",
    "adminAL.append(pD)\n",
    "adminAL.append(lD)"
   ]
  },
  {
   "cell_type": "code",
   "execution_count": 27,
   "metadata": {},
   "outputs": [],
   "source": [
    "def petTalk():\n",
    "    tmpPets=[]\n",
    "    goOnPets=\"Y\"\n",
    "        #Skal køre ind til det stopper\n",
    "    while goOnPets != \"N\":\n",
    "        petMsg=\"Dit kæledyr\"\n",
    "        tmpPet=input(petMsg)\n",
    "        tmpPets.append(tmpPet)\n",
    "        goOnPets=input(\"Flere kæledyr ('Y/N')\")\n",
    "    return tmpPets"
   ]
  },
  {
   "cell_type": "code",
   "execution_count": 29,
   "metadata": {},
   "outputs": [],
   "source": [
    "def custTalk():\n",
    "    msgFN=\"Indtast dit fornavn:\"\n",
    "    tmpFirstname=input(msgFN)\n",
    "    msgLN=\"Indtast dit efternavn:\"\n",
    "    tmpLastname=input(msgLN)\n",
    "\n",
    "    # Nu skal vi ha' listen med kæledyr\n",
    "    tmpPets=petTalk()\n",
    "    tmpDict={\"firstname\":tmpFirstname,\"lastname\":tmpLastname, \"pets\":tmpPets}\n",
    "    return tmpDict\n",
    "    "
   ]
  },
  {
   "cell_type": "code",
   "execution_count": null,
   "metadata": {},
   "outputs": [],
   "source": [
    "import pprint as pp\n",
    "typedGL=[]\n",
    "goOn=\"Y\"\n",
    "runReception=\"Y\"\n",
    "while runReception !=\"N\":\n",
    "    runReception=input(\"Tast en kunde? ('N/Y')\")\n",
    "    goOn=runReception\n",
    "    while goOn != \"N\":\n",
    "        tmpDict=custTalk()\n",
    "        typedGL.append(tmpDict)\n",
    "        goOn=\"N\"\n",
    "        # skal vi gå videre dialog?\n",
    "pp.pprint(typedGL) "
   ]
  },
  {
   "cell_type": "code",
   "execution_count": null,
   "metadata": {},
   "outputs": [],
   "source": []
  }
 ],
 "metadata": {
  "kernelspec": {
   "display_name": "Python 3",
   "language": "python",
   "name": "python3"
  },
  "language_info": {
   "codemirror_mode": {
    "name": "ipython",
    "version": 3
   },
   "file_extension": ".py",
   "mimetype": "text/x-python",
   "name": "python",
   "nbconvert_exporter": "python",
   "pygments_lexer": "ipython3",
   "version": "3.7.6"
  }
 },
 "nbformat": 4,
 "nbformat_minor": 4
}
